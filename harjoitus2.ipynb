{
 "cells": [
  {
   "cell_type": "markdown",
   "metadata": {},
   "source": [
    "# Datan analysointi K2021 - Tehtävät kerta 2\n",
    "\n",
    "Palauta ratkaisusi Moodleen, kun olet ensin testannut ratkaisusi toimivuuden Notebookilla tai omalla koneellasi. Kun olet palauttanut tehtäväsi Moodleen, ne arvioidaan pistein:\n",
    "* 1,0 p. Vastaus oikein ensimmäisellä yrityksellä.\n",
    "* 0,5 p. Vastaus oikein toisella yrityksellä.\n",
    "* 0 p. Vastaus annettu kolmannella yrityksellä.\n",
    "\n",
    "**Tee tehtävät ilman for-silmukoita tms.**"
   ]
  },
  {
   "cell_type": "markdown",
   "metadata": {},
   "source": [
    "## 1. Kunnat\n",
    "\n",
    "Tee funktio kunnat(url), joka tekee seuraavaa:\n",
    "* lataa datan DataFrameen url:sta (sarakkeiden erotinmerkki on puolipiste ja desimaalimerkki on pilkku),\n",
    "* kopioi uuteen DataFrameen kaikki sarakkeet ja rivit, joissa sarakkeessa 'maakunta' esiintyvät merkkijonot 'Uusimaa', 'Keski-Pohjanmaa' tai 'Keski-Suomi' ja sarakkeen 'Väkiluku' arvo on pienempi kuin 10 000,\n",
    "* kopioi edellisen DataFramen uuteen DataFrameen siten, että ensin on lajiteltu sarake 'maakunta' ja sitten sarake 'kunta' aakkosissa nousevaan järjestykseen,\n",
    "* tulostaa lopputulokseen viisi ensimmäistä riviä.\n",
    "\n",
    "Tehtävän url=https://student.labranet.jamk.fi/~huoptu/datananal_s20/kerta2/harjoitukset/kunnat.csv\n",
    "\n",
    "Esimerkiksi kunnat(url) tulostaa:\n",
    "\n",
    "| |maakunta |      \tkunta  \t\t\t|Väkiluku|\n",
    "|:---|:---|:---|:---|\n",
    "|22       \t|Keski-Pohjanmaa|      \tHalsua      \t|1165    |\n",
    "|75       \t|Keski-Pohjanmaa|      \tKannus      \t|5502    |\n",
    "|84       \t|Keski-Pohjanmaa|   \tKaustinen      \t|4273    |\n",
    "|136      \t|Keski-Pohjanmaa|  \t\tLestijärvi      |737     |\n",
    "|191      \t|Keski-Pohjanmaa|       Perho      \t\t|2825    |\n",
    "\n",
    "**Huom!** Rivi-indeksi on esitetty ensimmäisessä sarakkeessa."
   ]
  },
  {
   "cell_type": "code",
   "execution_count": 35,
   "metadata": {},
   "outputs": [
    {
     "name": "stdout",
     "output_type": "stream",
     "text": [
      "            maakunta       kunta  Väkiluku\n",
      "22   Keski-Pohjanmaa      Halsua      1165\n",
      "75   Keski-Pohjanmaa      Kannus      5502\n",
      "84   Keski-Pohjanmaa   Kaustinen      4273\n",
      "136  Keski-Pohjanmaa  Lestijärvi       737\n",
      "191  Keski-Pohjanmaa       Perho      2825\n"
     ]
    }
   ],
   "source": [
    "def kunnat(url):\n",
    "    # Kirjoita vastauksesi tähän alle:\n",
    "    import pandas as pd\n",
    "    df = pd.read_csv(url, sep=';', decimal=',')\n",
    "    df = df[[\"maakunta\", \"kunta\", \"Väkiluku\"]].copy()\n",
    "    kopio = df.loc[(df[\"maakunta\"].isin([\"Uusimaa\", \"Keski-Pohjanmaa\", \"Keski-Suomi\"])) & (df[\"Väkiluku\"] < 10000)]\n",
    "    uusi = kopio.sort_values([\"maakunta\", \"kunta\"])\n",
    "    tulos = uusi.head(5)\n",
    "    # Lopuksi vastauksesi tulostetaan tulos muuttujassa\n",
    "    print(tulos)\n",
    "\n",
    "# Palautuksesi päättyy tähän.\n",
    "# Voit lopuksi testata tekemääsi funktiota:\n",
    "url=\"https://student.labranet.jamk.fi/~huoptu/datananal_s20/kerta2/harjoitukset/kunnat.csv\"\n",
    "kunnat(url)\n"
   ]
  },
  {
   "cell_type": "markdown",
   "metadata": {},
   "source": [
    "## 2. Sähkön hintatietojen luokittelua\n",
    "\n",
    "Tee funktio sahko(url), joka tekee seuraavaa:\n",
    "* Lukee url:stä datan DataFrameen kun sarakkeiden erottimena on pilkku \",\" ja desimaalierottimena piste \",\",\n",
    "* jos sarakkeissa 'Year Total €/MWh' ja 'December €/MWh' niiden välillä on merkki \".\", korvataan merkki numpyn nan arvolla hyödyntäen pandasin isin() metodia,\n",
    "* tekee DataFrameen uuden sarakkeen 'hintaluokka', jossa on viisi hintaluokkaa sarakkeesta 'Year Total €/MWh' siten, että alimman ja ylimmän hintaluokan hinnat ovat 'Year Total €/MWh' sarakkeen pienimmät ja suurimmat arvot,\n",
    "* tulostaa 'hintaluokka' sarakkeen hintaluokkien lukumäärät value_counts()-metodilla.\n",
    "* tarkista lopuksi, että funktio jäjestää tulosteen samoin kuin esimerkkivastauksessa.\n",
    "\n",
    "Tässä tehtävässä url=https://student.labranet.jamk.fi/~huoptu/datananal_s20/kerta2/harjoitukset/ehi_010_2020q2.csv\n",
    "\n",
    "**Esimerkiksi, sahko(url) tulostaa:** \\\n",
    "(12.06, 21.256]     21 \\\n",
    "(21.256, 30.452]    85 \\\n",
    "(30.452, 39.648]    78 \\\n",
    "(39.648, 48.844]    22 \\\n",
    "(48.844, 58.04]     28 \\\n",
    "Name: hintaluokka, dtype: int64"
   ]
  },
  {
   "cell_type": "code",
   "execution_count": 145,
   "metadata": {},
   "outputs": [
    {
     "name": "stdout",
     "output_type": "stream",
     "text": [
      "(12.06, 21.256]     21\n",
      "(21.256, 30.452]    85\n",
      "(30.452, 39.648]    78\n",
      "(39.648, 48.844]    22\n",
      "(48.844, 58.04]     28\n",
      "Name: hintaluokka, dtype: int64\n"
     ]
    }
   ],
   "source": [
    "def sahko(url):\n",
    "    \n",
    "    # Kirjoita vastauksesi tähän:\n",
    "    import pandas as pd\n",
    "    import numpy as np\n",
    "    df = pd.read_csv(url, sep=',', decimal='.')    \n",
    "    \n",
    "    df[df.iloc[::, 2:].isin(['.'])] = np.nan   \n",
    "    df = df[df['Year Total €/MWh'].notnull()]    \n",
    "    \n",
    "    mini = min(df['Year Total €/MWh'])    \n",
    "    maxi = max(df['Year Total €/MWh'])\n",
    "        \n",
    "    num = 6\n",
    "    intervals = np.linspace(float(mini), float(maxi), num).astype(float)\n",
    "        \n",
    "    df['hintaluokka'] = pd.cut(df['Year Total €/MWh'].astype(float), intervals) \n",
    "    #df2.loc[:, 'hintaluokka'] = pd.cut(df2['Year Total €/MWh'].astype(float), intervals) \n",
    "    tulos = df['hintaluokka'].value_counts().sort_index()\n",
    "    \n",
    "    # Vastauksesi tulostetaan\n",
    "    print(tulos)\n",
    "# Palautuksesi päättyy tähän.\n",
    "\n",
    "\n",
    "url = \"https://student.labranet.jamk.fi/~huoptu/datananal_s20/kerta2/harjoitukset/ehi_010_2020q2.csv\"\n",
    "\n",
    "# Voit kokeilla funktiotasi seuraavasti:\n",
    "sahko(url)"
   ]
  },
  {
   "cell_type": "markdown",
   "metadata": {},
   "source": [
    "## 3. Sähkön hintatietojen luokittelua (2)\n",
    "\n",
    "Tee funktio suomisahko(url), joka tekee seuraavaa:\n",
    "* Lukee url:stä datan DataFrameen kun sarakkeiden erottimena on pilkku \",\" ja desimaalierottimena piste \",\",\n",
    "* jos sarakkeissa 'Year Total €/MWh' ja 'December €/MWh' niiden välillä on merkki \".\", korvataan merkki numpyn nan arvolla hyödyntäen pandasin isin() metodia,\n",
    "* muuntaa sarakkeiden 'Year Total €/MWh' ja 'December €/MWh' ja niiden välissä olevien sarakkaiden tietotyypiksi float,\n",
    "* kopioi DataFramesta kaikki sarakkeet ja ne rivit noiden sarakkeessa 'Price area' on merkkijono 'Finland',\n",
    "* laskee **koko vuoden** sähkön hinnan keskiarvon uuteen sarakkeeseen 'Average €/MWh' kuukausilta ('January €/MWh'-'December €/MWh'),\n",
    "* laskee sarakkeeseen 'Below average price' kuinka monena kuukautena sähkönhinta on ollut alle vuoden keskiarvon,\n",
    "* laskee sarakkeeseen 'Above average price' kuinka monena kuukautena sähkönhinta on ollut yli vuoden keskiarvon tai yhtä paljon kuin keskiarvohinta,\n",
    "* tulostaa vain ne kymmenen riviä (head(10)), jolloin sarakkeiden 'Below average price' ja 'Above average price' summa on 12.\n",
    "\n",
    "\n",
    "Tässä tehtävässä url=https://student.labranet.jamk.fi/~huoptu/datananal_s20/kerta2/harjoitukset/ehi_010_2020q2.csv\n",
    "\n",
    "**Esimerkiksi, suomisahko(url) tulostaa:**\n",
    "\n",
    "|  |Year|  Below average price|  Above average price|\n",
    "|:---|:---|:---|:---|\n",
    "|145|  1998|                    5|                    7|\n",
    "|146|  1999|                    5|                    7|\n",
    "|147|  2000|                    7|                    5|\n",
    "|148|  2001|                    7|                    5|\n",
    "|149|  2002|                    9|                    3|\n",
    "|150|  2003|                    9|                    3|\n",
    "|151|  2004|                    7|                    5|\n",
    "|152|  2005|                    5|                    7|\n",
    "|153|  2006|                    6|                    6|\n",
    "|154|  2007|                    7|                    5|\n",
    "\n",
    "**Huom!** Rivi-indeksi on esitetty ensimmäisessä sarakkeessa."
   ]
  },
  {
   "cell_type": "code",
   "execution_count": 363,
   "metadata": {},
   "outputs": [
    {
     "name": "stdout",
     "output_type": "stream",
     "text": [
      "     Year  Below average price  Above average price\n",
      "145  1998                    5                    7\n",
      "146  1999                    5                    7\n",
      "147  2000                    7                    5\n",
      "148  2001                    7                    5\n",
      "149  2002                    9                    3\n",
      "150  2003                    9                    3\n",
      "151  2004                    7                    5\n",
      "152  2005                    5                    7\n",
      "153  2006                    6                    6\n",
      "154  2007                    7                    5\n"
     ]
    }
   ],
   "source": [
    "# Palautuksesi alkaa tästä\n",
    "def suomisahko(url):\n",
    "    \n",
    "    # Kirjoita vastauksesi tähän:\n",
    "    import pandas as pd\n",
    "    import numpy as np\n",
    "    df = pd.read_csv(url, sep=',', decimal='.')\n",
    "    df[df.iloc[::, 2:].isin(['.'])] = np.nan\n",
    "    df.iloc[::, 2:] = df.iloc[::, 2:].apply(pd.to_numeric)\n",
    "    \n",
    "    df2 =  df[df['Price area'] == 'Finland']\n",
    "    df2 = df2.dropna(thresh = 3) # ainakin 3 arvoa\n",
    "    vuosi = df2['Year']\n",
    "    #print(vuosi)\n",
    "    df2 = df2.iloc[::, 3:15]\n",
    "    \n",
    "    df2['Average €/MWh'] = df2.mean(axis = 1)    \n",
    "    \n",
    "    def montakoalle(x):\n",
    "        return x[x < x[-1]].count()\n",
    "    def montakoyli(x):\n",
    "        return x[x > x[-2]].count()\n",
    "    \n",
    "    df2['Below average price'] = df2.apply(montakoalle, axis=1)\n",
    "    df2['Above average price'] = df2.apply(montakoyli, axis=1)\n",
    "    \n",
    "    tulos = pd.concat([vuosi, df2[['Below average price', 'Above average price']]], axis = 1)    \n",
    "    \n",
    "    tulos = tulos.head(10)\n",
    "    \n",
    "    # Vastauksesi tulostetaan\n",
    "    print(tulos)\n",
    "\n",
    "# Palautuksesi päättyy tähän.\n",
    "    \n",
    "url = \"https://student.labranet.jamk.fi/~huoptu/datananal_s20/kerta2/harjoitukset/ehi_010_2020q2.csv\"\n",
    "# Voit kokeilla funktiotasi seuraavasti:\n",
    "suomisahko(url)"
   ]
  },
  {
   "cell_type": "markdown",
   "metadata": {},
   "source": [
    "## 4. Henkilötietojen muodostamista merkkijonoista\n",
    "\n",
    "Tee funktio **mail(url)**, joka tekee seuraavaa:\n",
    "* lataa url:stä DataFrameen henkilötietodatan, jossa erotinmerkkinä on tabulaattori ('\\t'),\n",
    "* tallentaa uuteen DataFrameen sarakkeesta 'NameOfContactPerson' sukunimen ja sarakkeesta 'Email' sähköpostiosoitteen,\n",
    "* poistaa rivit, joissa 'NameOfContactPerson' sarakkeessa on samat arvot siten, että järjestyksessä ensimmäinen rivi jätetään,\n",
    "* järjestää yhteystiedot sukunimen mukaan aakkosissa suurimmasta pienimpään(Ö->A),\n",
    "* tulostaa viisi ensimmäistä riviä.\n",
    "\n",
    "Tehtävässä url=https://student.labranet.jamk.fi/~huoptu/datananal_s20/kerta2/harjoitukset/osotteita.csv\n",
    "\n",
    "**Esimerkiksi**, mail(url) tulostaa:\n",
    "\n",
    "| |sukunimi |                      email|\n",
    "|:---|:---|:---|\n",
    "|29  |    Zovko  |         nina.zovko@azo.hr|\n",
    "|173  |  Yotova  |iyotova@moew.government.bg|\n",
    "|73   |  Vitola   |    evita.vitola@lvgmc.lv|\n",
    "|213  |Virgovič   |radoslav.virgovic@sazp.sk|\n",
    "|268  |Virgovic   |radoslav.virgovic@sazp.sk|\n"
   ]
  },
  {
   "cell_type": "code",
   "execution_count": 254,
   "metadata": {},
   "outputs": [
    {
     "name": "stdout",
     "output_type": "stream",
     "text": [
      "     sukunimi                       email\n",
      "29      Zovko           nina.zovko@azo.hr\n",
      "173    Yotova  iyotova@moew.government.bg\n",
      "73     Vitola       evita.vitola@lvgmc.lv\n",
      "213  Virgovič   radoslav.virgovic@sazp.sk\n",
      "268  Virgovic   radoslav.virgovic@sazp.sk\n"
     ]
    }
   ],
   "source": [
    "def mail(url):\n",
    "    # Kirjoita vastauksesi tähän alle:\n",
    "    \n",
    "    import pandas as pd\n",
    "    \n",
    "    df = pd.read_csv(url, engine='python', encoding='utf-8-sig', sep='\\\\t')\n",
    "   \n",
    "    df.columns = df.columns.str.replace('\"', '')\n",
    "   \n",
    "    df2 = df[['NameOfContactPerson', 'EMail']].copy()\n",
    "    \n",
    "    df2 = df2.drop_duplicates()\n",
    "    df2['sukunimi'] = df2['NameOfContactPerson'].str.split(' ').str.get(-1)\n",
    "    df2['email'] = df2['EMail'].str.replace('\"', '')\n",
    "    df2 = df2.drop_duplicates('sukunimi')\n",
    "    df2 = df2.sort_values(by='sukunimi', ascending=False)\n",
    "    \n",
    "    df2 = df2.drop('NameOfContactPerson', axis=1)\n",
    "    df2 = df2.drop('EMail', axis=1)\n",
    "    \n",
    "    tulos = df2.head(5)\n",
    "    # Lopuksi vastauksesi tulostetaan tulos muuttujassa\n",
    "    print(tulos)\n",
    "# Palautuksesi päättyy tähän.    \n",
    "\n",
    "# Testaa funktiotasi:\n",
    "url='https://student.labranet.jamk.fi/~huoptu/datananal_s20/kerta2/harjoitukset/osotteita.csv'\n",
    "mail(url)\n"
   ]
  },
  {
   "cell_type": "markdown",
   "metadata": {},
   "source": [
    "## 5. Henkilötietojen muodostamista merkkijonoista (2)\n",
    "\n",
    "Tee funktio **mail(url)**, joka tekee **järjestyksessä** seuraavaa:\n",
    "* lataa url:stä DataFrameen henkilötietodatan, jossa erotinmerkkinä on tabulaattori ('\\t'),\n",
    "* poistaa rivit, joissa 'NameOfContactPerson' sarakkeessa on samat arvot siten, että järjestyksessä ensimmäinen rivi jätetään,\n",
    "* poistaa sarakkeen 'NameOfContactPerson' kaikilta riveiltä kaarisulkeet ja niiden sisällä olevat merkkijonot,\n",
    "* tallentaa uuteen DataFrameen sarakkeesta 'NameOfContactPerson' sukunimen ja sarakkeesta 'Email' sähköpostiosoitteen,\n",
    "* tallentaa uuteen DataFramen sarakkeeseen ('surname') vain ne rivit, joissa sukunimi sarakkeessa esiintyy aakkosia tai yhdysviiva \"-\" osana sukunimeä,\n",
    "* tallentaa uuteen DataFrameen sarakkeen ('domainend'), jossa on sähköpostiosoitteen domainin loppuosa (esim. **fi**),\n",
    "* poistaa sarakkeesta 'domainend' tyhjät merkkijonot,\n",
    "* järjestää DataFramen rivit sarakkeen 'surname' mukaan aakkosittain nousevaan järjestykseen (A -> Ö),\n",
    "* tulostaa DataFramesta viisi ensimmäistä riviä sarakkeista 'surname' ja 'domainend'.\n",
    "\n",
    "Tehtävässä url=https://student.labranet.jamk.fi/~huoptu/datananal_s20/kerta2/harjoitukset/osotteita.csv\n",
    "\n",
    "**Esimerkiksi**, mail(url) tulostaa:\n",
    "\n",
    "| | surname| domainend|\n",
    "|:---|:---|:---|\n",
    "|327|  Al-Hanbali|        se|\n",
    "|163|   Alexandru|        ro|\n",
    "|287|  Berzinskas|        lt|\n",
    "|330|     Brennan|        uk|\n",
    "|257|      Cassar|        mt|\n"
   ]
  },
  {
   "cell_type": "code",
   "execution_count": 316,
   "metadata": {},
   "outputs": [
    {
     "name": "stdout",
     "output_type": "stream",
     "text": [
      "        surname domainend\n",
      "327  Al-Hanbali        se\n",
      "163   Alexandru        ro\n",
      "287  Berzinskas        lt\n",
      "330     Brennan        uk\n",
      "257      Cassar        mt\n"
     ]
    }
   ],
   "source": [
    "def mail(url):\n",
    "    # Kirjoita vastauksesi tähän alle:\n",
    "    import pandas as pd\n",
    "    import numpy as np\n",
    "    import re\n",
    "    \n",
    "    df = pd.read_csv(url, engine='python', encoding='utf-8-sig', sep='\\\\t')\n",
    "    df = df.drop_duplicates('NameOfContactPerson')\n",
    "    df['NameOfContactPerson'] = df['NameOfContactPerson'].str.replace(r'\\(.*?\\)', '')\n",
    "    df.columns = df.columns.str.replace('\"', '')\n",
    "    df2 = df[['NameOfContactPerson', 'EMail']].copy()\n",
    "    \n",
    "    df2 = df2.drop_duplicates()\n",
    "    df2['sukunimi'] = df2['NameOfContactPerson'].str.split(' ').str.get(-1)\n",
    "    df2['email'] = df2['EMail'].str.replace('\"', '')\n",
    "    df2 = df2.drop_duplicates('sukunimi')\n",
    "    \n",
    "    df2['sukunimi'].replace('', np.nan, inplace=True)\n",
    "    \n",
    "    df2['surname'] = df2['sukunimi'].str.replace('\\d', \"\")\n",
    "    df2['surname'].replace('', np.nan, inplace=True)\n",
    "    df2.dropna()\n",
    "        \n",
    "    df2['domainend'] = df2['email'].str.split('@').str.get(1).str.split('.').str.get(-1)\n",
    "    df2['domainend'] = df2['domainend'].replace(\"\", np.nan)\n",
    "    df2 = df2.sort_values(by='surname')\n",
    "    tulos = df2[['surname', 'domainend']].head(5)\n",
    "    # Lopuksi vastauksesi tulostetaan tulos muuttujassa\n",
    "    \n",
    "    print(tulos)\n",
    "\n",
    "# Palautuksesi päättyy tähän.\n",
    "\n",
    "# Testaa funktiotasi:\n",
    "url='https://student.labranet.jamk.fi/~huoptu/datananal_s20/kerta2/harjoitukset/osotteita.csv'\n",
    "mail(url)"
   ]
  },
  {
   "cell_type": "code",
   "execution_count": null,
   "metadata": {},
   "outputs": [],
   "source": []
  }
 ],
 "metadata": {
  "kernelspec": {
   "display_name": "Python 3",
   "language": "python",
   "name": "python3"
  },
  "language_info": {
   "codemirror_mode": {
    "name": "ipython",
    "version": 3
   },
   "file_extension": ".py",
   "mimetype": "text/x-python",
   "name": "python",
   "nbconvert_exporter": "python",
   "pygments_lexer": "ipython3",
   "version": "3.8.5"
  }
 },
 "nbformat": 4,
 "nbformat_minor": 4
}
