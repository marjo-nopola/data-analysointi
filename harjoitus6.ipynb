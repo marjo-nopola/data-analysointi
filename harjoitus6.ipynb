{
 "cells": [
  {
   "cell_type": "markdown",
   "metadata": {},
   "source": [
    "# Datan analysointi K2021 - Tehtävät kerta 6\n",
    "\n",
    "Palauta ratkaisusi Moodleen, kun olet ensin testannut ratkaisusi toimivuuden Notebookilla tai omalla koneellasi. Kun olet palauttanut tehtäväsi Moodleen, ne arvioidaan pistein:\n",
    "* 1,0 p. Vastaus oikein ensimmäisellä yrityksellä.\n",
    "* 0,5 p. Vastaus oikein toisella yrityksellä.\n",
    "* 0 p. Vastaus on annettu kolmannella yrityksellä.\n",
    "\n",
    "**Tee tehtävät ilman for-silmukoita tms.**"
   ]
  },
  {
   "cell_type": "markdown",
   "metadata": {},
   "source": [
    "## 1. Säädatan aikaleimojen muodostaminen\n",
    "\n",
    "Tee funktio saa(url), joka tekee seuraavaa:\n",
    "* lataa datan DataFrameen [url:sta](https://student.labranet.jamk.fi/~huoptu/datananal_s20/kerta6/harjoitukset/saatiedot.csv),\n",
    "* laskee DataFrameen uuden sarakkeen 'From start, s' riveille kuinka paljon aikaa on kulunut sekunteina aikajärjestyksessä ensimmäisestä mittaustapahtumasta,\n",
    "* asettaa DataFramelle indeksin sarakkeesta 'From start, s' muodossa 'tuntia.minuuttia.sekuntia' [Pandasin aikaleimana](https://pandas.pydata.org/pandas-docs/stable/reference/api/pandas.to_datetime.html),\n",
    "* tulostaa vastaukseen viisi ensimmäistä riviä sarakkeista 'From start, s' ja 'Pressure (msl), hPa', kun mittauksien alusta oli kulunut aikaa enemmän kuin '09.59.45'.\n",
    "\n",
    "Tässä tehtävässä:\n",
    "* url='https://student.labranet.jamk.fi/~huoptu/datananal_s20/kerta6/harjoitukset/saatiedot.csv'\n",
    "\n",
    "**Esimerkiksi, saa(url) tulostaa:**\n",
    "<img src=\"https://student.labranet.jamk.fi/~huoptu/datananal_s20/kerta6/harjoitukset/h6t1.png\" width=\"300\"/>"
   ]
  },
  {
   "cell_type": "code",
   "execution_count": 41,
   "metadata": {
    "scrolled": true
   },
   "outputs": [
    {
     "name": "stdout",
     "output_type": "stream",
     "text": [
      "          From start, s  Pressure (msl), hPa\n",
      "hh.mm.ss                                    \n",
      "10.00.00        36000.0               1007.6\n",
      "10.01.00        36060.0               1007.6\n",
      "10.02.00        36120.0               1007.7\n",
      "10.03.00        36180.0               1007.6\n",
      "10.04.00        36240.0               1007.6\n"
     ]
    }
   ],
   "source": [
    "def saa(url):\n",
    "    # Kirjoita vastauksesi tähän alle:\n",
    "    import pandas as pd\n",
    "    from datetime import datetime\n",
    "    from datetime import timedelta\n",
    "    \n",
    "    df = pd.read_csv(url, sep=',', decimal='.')\n",
    "    df.rename(columns={\"Unnamed: 0\" : \"Time\"}, inplace = True)\n",
    "    df = df.sort_values(['Time'])\n",
    "    df['Time'] = pd.to_datetime(df['Time'], format='%Y-%m-%d %H:%M:%S')\n",
    "    \n",
    "    df['Muutos'] = df['Time'] - df.iloc[0,0] #muutos ajassa 1. mittaushavainnosta    \n",
    "    df['From start, s'] = df['Muutos'].dt.total_seconds()\n",
    "    df['hh.mm.ss'] = pd.to_datetime(df['From start, s'], unit='s').dt.strftime(\"%H.%M.%S\")\n",
    "    \n",
    "    df = df[df['hh.mm.ss']>'09.59.45']\n",
    "    df.set_index('hh.mm.ss', inplace=True)\n",
    "    \n",
    "    tulos = df[['From start, s', 'Pressure (msl), hPa']].head(5)\n",
    "    # Älä kirjoita tähän muita print komentoja ennen viimeistä print(tulos) komentoa, koska tällöin vastauksesi saatetaan tulkita väärin.\n",
    "    \n",
    "    # Lopuksi vastauksesi tulostetaan tulos muuttujassa\n",
    "    print(tulos)\n",
    "    \n",
    "url='https://student.labranet.jamk.fi/~huoptu/datananal_s20/kerta6/harjoitukset/saatiedot.csv'\n",
    "saa(url)\n"
   ]
  },
  {
   "cell_type": "markdown",
   "metadata": {},
   "source": [
    "## 2. Säädatan aikaleimojen muodostaminen (2)\n",
    "\n",
    "Tee funktio saa(url), joka tekee seuraavaa:\n",
    "* lataa datan DataFrameen [url:sta](https://student.labranet.jamk.fi/~huoptu/datananal_s20/kerta6/harjoitukset/saatiedot.csv),\n",
    "* laskee DataFrameen uuden sarakkeen 'From start, s' riveille kuinka paljon aikaa on kulunut sekunteina aikajärjestyksessä ensimmäisestä mittaustapahtumasta,\n",
    "* asettaa DataFramelle indeksin sarakkeesta 'From start, s' muodossa 'tuntia.minuuttia.sekuntia' [Pandasin aikaleimana](https://pandas.pydata.org/pandas-docs/stable/reference/api/pandas.to_datetime.html),\n",
    "* tallentaa uuteen DataFrameen sarakkeet 'Air temperature, degC' ja 'Pressure (msl), hPa',\n",
    "* laskee edelleen uuteen DataFrameen sarakkeiden 'Air temperature, degC' ja 'Pressure (msl), hPa' riveillä olevien arvojen tuntikohtaiset keskiarvot,\n",
    "* pyöristää ja esittää DataFramen lukuarvot yhden desimaalin tarkkuudella,\n",
    "* tulostaa vastaukseen viisi ensimmäistä riviä sarakkeista 'Air temperature, degC' ja 'Pressure (msl), hPa', kun mittauksien alusta oli kulunut aikaa vähintään '07.00.00'.\n",
    "\n",
    "Tässä tehtävässä:\n",
    "* url='https://student.labranet.jamk.fi/~huoptu/datananal_s20/kerta6/harjoitukset/saatiedot.csv'\n",
    "\n",
    "**Esimerkiksi saa(url) tulostaa:**\n",
    "<img src=\"https://student.labranet.jamk.fi/~huoptu/datananal_s20/kerta6/harjoitukset/h6t2.png\" width=\"325\"/>"
   ]
  },
  {
   "cell_type": "code",
   "execution_count": 76,
   "metadata": {},
   "outputs": [
    {
     "name": "stdout",
     "output_type": "stream",
     "text": [
      "         Air temperature, degC Pressure (msl), hPa\n",
      "hh.mm.ss                                          \n",
      "07.00.00                   5.2              1008.9\n",
      "08.00.00                   4.8              1008.2\n",
      "09.00.00                   4.8              1007.9\n",
      "10.00.00                   5.0              1007.7\n",
      "11.00.00                   5.1              1007.3\n"
     ]
    }
   ],
   "source": [
    "def saa(url):\n",
    "    import pandas as pd\n",
    "    from datetime import datetime\n",
    "    from datetime import timedelta\n",
    "    \n",
    "    df = pd.read_csv(url, sep=',', decimal='.')\n",
    "    df.rename(columns={\"Unnamed: 0\" : \"Time\"}, inplace = True)\n",
    "    df = df.sort_values(['Time'])\n",
    "    df['Time'] = pd.to_datetime(df['Time'], format='%Y-%m-%d %H:%M:%S')\n",
    "    \n",
    "    df['Muutos'] = df['Time'] - df.iloc[0,0] #muutos ajassa 1. mittaushavainnosta    \n",
    "    df['From start, s'] = df['Muutos'].dt.total_seconds()\n",
    "    df['hh.mm.ss'] = pd.to_datetime(df['From start, s'], unit='s')\n",
    "    df['hh.mm.ss'] = df['hh.mm.ss'].dt.strftime(date_format = '%H.%M.%S')\n",
    "        \n",
    "    df.index = pd.to_datetime(df['hh.mm.ss'], format = '%H.%M.%S')\n",
    "    \n",
    "    df2 = df[['Air temperature, degC', 'Pressure (msl), hPa']]\n",
    "    \n",
    "    df3 = df2.resample(rule = 'H', kind = 'period').mean()\n",
    "    df3 = df3.applymap(\"{:.1f}\".format)\n",
    "    df3.index = df3.index.strftime('%H.%M.%S')\n",
    "    df3 = df3[df3.index >= '07.00.00']\n",
    "    tulos = df3.head(5)\n",
    "    # Älä kirjoita tähän muita print komentoja ennen viimeistä print(tulos) komentoa, koska tällöin vastauksesi saatetaan tulkita väärin.\n",
    "    \n",
    "    # Lopuksi vastauksesi tulostetaan tulos muuttujassa\n",
    "    print(tulos)\n",
    "    \n",
    "url='https://student.labranet.jamk.fi/~huoptu/datananal_s20/kerta6/harjoitukset/saatiedot.csv'\n",
    "saa(url)"
   ]
  },
  {
   "cell_type": "markdown",
   "metadata": {},
   "source": [
    "## 3. Aikasarjadatan generointia\n",
    "\n",
    "Eräässä sovelluksessa tarvitaan tieto kappaleen paikasta $xy$ - koordinaatistossa tunnetulla ajanhetkellä. Kappaleen lähtiessä liikkeelle levosta ajanhetkellä $t$ on 0 sekuntia, kappaleen paikka $xy$ - tasolla metreinä on\n",
    "$$\n",
    "x=\\frac{t\\cdot v_0}{\\sqrt{2}}\\ \\text{ja}\n",
    "$$\n",
    "$$\n",
    "y=\\frac{t\\cdot v_0}{\\sqrt{2}} - \\frac{9.82\\ \\text{m}/\\text{s}^2\\cdot t^2}{2},\n",
    "$$\n",
    "missä kappaleen lähtönopeus $v_0$ on 600 m/s ja $t$ on aika sekunteina. Kappaleen liikeyhtälö pätee, jos kappale lähtee liikkeelle 45-asteen kulmassa $x$-akseliin nähden ja väliaineen vastausvoimat oletetaan olemattomiksi.\n",
    "\n",
    "Tätä varten tee funktio timedata(start, end), joka tekee seuraavaa:\n",
    "* muodostaa DataFramen indeksiksi [Pandasin aikaleiman](https://pandas.pydata.org/pandas-docs/stable/reference/api/pandas.to_datetime.html) muodossa **tuntia:minuuttia:sekuntia** 20 sekunnin välein alkaen ajanhetkestä '2019-12-31 23:59:00' hetkeen '2020-01-01 00:00:30',\n",
    "* esittää uudessa DataFramessa kappaleen lentoajan $t$ sekunteina sarakkeessa 't, s', \n",
    "* laskee DataFrameen kappaleen paikan x-akselin suunnassa metreinä sarakkeeseen 'x, m',\n",
    "* laskee DataFrameen kappaleen paikan y-akselin suunnassa metreinä sarakkeeseen 'y, m',\n",
    "* pyöristää ja esittää DataFramessa lukuarvot kokonaislukujen tarkkuuteen,\n",
    "* tulostaa vastaukseen viisi ensimmäistä riviä ajanhetkestä 0 sekuntia (sarake 't, s') eteenpäin.\n",
    "\n",
    "Tässä tehtävässä:\n",
    "* start='2019-12-31 23:59:00'\n",
    "* end='2020-01-01 00:00:30'\n",
    "\n",
    "**Esimerkiksi timedata(start, end) tulostaa:**\n",
    "<img src=\"https://student.labranet.jamk.fi/~huoptu/datananal_s20/kerta6/harjoitukset/h6t3.png\" width=\"190\"/>\n"
   ]
  },
  {
   "cell_type": "code",
   "execution_count": 118,
   "metadata": {},
   "outputs": [
    {
     "name": "stdout",
     "output_type": "stream",
     "text": [
      "         t, s   x, m  y, m\n",
      "hh:mm:ss                  \n",
      "23:59:00    0      0     0\n",
      "23:59:20   20   8485  6521\n",
      "23:59:40   40  16971  9115\n",
      "00:00:00   60  25456  7780\n",
      "00:00:20   80  33941  2517\n"
     ]
    }
   ],
   "source": [
    "def timedata(start, end):\n",
    "    import pandas as pd\n",
    "    from datetime import datetime\n",
    "    import numpy as np\n",
    "    \n",
    "    df = pd.DataFrame(index = pd.date_range(start, end, freq = '20s'))\n",
    "    df.index = df.index.strftime('%H:%M:%S')\n",
    "    df.index.name = 'hh:mm:ss'\n",
    "    df['times'] = pd.date_range(start, end, freq = '20s')\n",
    "    #df['times'] = pd.to_datetime(df['times'], format='%H:%M:%S')\n",
    "    df['Muutos'] = df['times'] - df.iloc[0,0] #muutos ajassa 1. mittaushavainnosta    \n",
    "    df['t, s'] = df['Muutos'].dt.total_seconds()\n",
    "    \n",
    "    df['x, m'] = np.divide(df['t, s']*600, np.sqrt(2))\n",
    "    df['jaettava'] = np.multiply(9.82, df['t, s']**2)\n",
    "    df['sub'] = np.divide(df['jaettava'], 2)\n",
    "    df['y, m'] = df['x, m'] - df['sub']\n",
    "    df = df[['t, s', 'x, m', 'y, m']]\n",
    "    df = df.applymap('{:.0f}'.format)\n",
    "    tulos = df.head(5)\n",
    "    \n",
    "    \n",
    "    # Älä kirjoita tähän muita print komentoja ennen viimeistä print(tulos) komentoa, koska tällöin vastauksesi saatetaan tulkita väärin.\n",
    "    \n",
    "    # Lopuksi vastauksesi tulostetaan tulos muuttujassa\n",
    "    print(tulos) \n",
    "start = '2019-12-31 23:59:00'\n",
    "end = '2020-01-01 00:00:30'\n",
    "timedata(start, end)"
   ]
  },
  {
   "cell_type": "markdown",
   "metadata": {},
   "source": [
    "## 4. Aikasarjadatan lineaarinen interpolointi\n",
    "\n",
    "Tämän tehtävän datassa esiintyvät sarakkeet 'hh:mm:ss', 'aika, s' ja 'y, m', mitkä edustavat kellonaikaa mittauksian alusta, aikaa mittauksien alusta sekunteina ja kappaleen paikkaa metreinä. Tee funktio interp_times(url), joka tekee seuraavaa:\n",
    "* lataa datan [url:sta](https://student.labranet.jamk.fi/~huoptu/datananal_s20/kerta6/harjoitukset/motion.csv) DataFrameen,\n",
    "* täyttää mittauksien alusta lähtien uuden DataFramen indekseihin puuttuvat kellonajan arvot ja puuttuvat ajan arvot sarakkeeseen 't_tot, s' 5 sekunnin aikavälein,\n",
    "* täyttää mittauksien alusta lähtien uuteen DataFrameen puuttuvat kappaleen paikan arvot sarakkeeseen 'int_y, m' lineaarisen approksimaation mukaan 5 sekunnin välein,\n",
    "* pyöristää DataFramen lukuarvot kokonaislukujen tarkkuuteen,\n",
    "* tulostaa vastaukseen sarakkeet 't_tot, s' ja 'int_y, m', kun mittauksien alusta lukien kellonaika on '00:00:45'-'00:01:31'.\n",
    "\n",
    "Tässä tehtävässä lineaarinen approksimaatio tarkoittaa kahden eri pisteen väliin jäävien paikan $y$ arvojen laskemista suoran yhtälön avulla\n",
    "$$\n",
    "y=\\left(\\frac{y_{i+1}-y_{i}}{t_{i+1}-t_{i}}\\right)\\cdot(t-t_{i})+y_{i},\n",
    "$$\n",
    "missä $y_i$ ja $y_{i+1}$ ovat alkuperäisen datasetin peräkkäiset kappaleen paikat (metreinä) sekä $t_i$ ja $t_{i+1}$ ovat alkuperäisen datasetin peräkkäiset ajanhetket sekunteina. Kappaleen paikka $y$ on metreinä ja tunnettujen pisteiden välissä oleva ajanhetki $t$ on sekunteina. Indeksi $i$ tarkoittaa alkuperäisen datan rivi-indeksiä ja $i+1$ tarkoittaa seuraavaa rivi-indeksiä.\n",
    "\n",
    "**Huom! Älä käytä tehtävässä for - silmukoita.**\n",
    "\n",
    "Tässä tehtävässä:\n",
    "* url='https://student.labranet.jamk.fi/~huoptu/datananal_s20/kerta6/harjoitukset/motion.csv'\n",
    "\n",
    "**Esimerkiksi interp_times(url) tulostaa:**\n",
    "<img src=\"https://student.labranet.jamk.fi/~huoptu/datananal_s20/kerta6/harjoitukset/h6t5.png\" width=\"190\"/>"
   ]
  },
  {
   "cell_type": "code",
   "execution_count": 155,
   "metadata": {},
   "outputs": [
    {
     "name": "stdout",
     "output_type": "stream",
     "text": [
      "         t_tot, s int_y, m\n",
      "hh:mm:ss                  \n",
      "00:00:45       45    17337\n",
      "00:00:50       50    17790\n",
      "00:00:55       55    18244\n",
      "00:01:00       60    18697\n",
      "00:01:05       65    18414\n",
      "00:01:10       70    18131\n",
      "00:01:15       75    17848\n",
      "00:01:20       80    16828\n",
      "00:01:25       85    15808\n",
      "00:01:30       90    14789\n"
     ]
    }
   ],
   "source": [
    "def interp_times(url):\n",
    "    # Kirjoita vastauksesi tähän alle:\n",
    "    import pandas as pd\n",
    "    from datetime import datetime\n",
    "        \n",
    "    df = pd.read_csv(url, sep='\\t')\n",
    "    df.index = pd.to_datetime(df['hh:mm:ss'], format = '%H:%M:%S')\n",
    "    df2 = df.resample('5s').asfreq()\n",
    "    df3 = df2.interpolate()\n",
    "    df3.rename(columns={\"aika, s\" : \"t_tot, s\", 'y, m': 'int_y, m'}, inplace = True)\n",
    "    df3 = df3[['t_tot, s', 'int_y, m']]\n",
    "    df3 = df3.applymap('{:.0f}'.format)\n",
    "    df3.index = df3.index.strftime('%H:%M:%S')\n",
    "    \n",
    "    df3 = df3[df3.index >= '00:00:45']\n",
    "    df3 = df3[df3.index < '00:01:31']\n",
    "    tulos = df3\n",
    "    # Älä kirjoita tähän muita print komentoja ennen viimeistä print(tulos) komentoa, koska tällöin vastauksesi saatetaan tulkita väärin.\n",
    "    \n",
    "    # Lopuksi vastauksesi tulostetaan tulos muuttujassa\n",
    "    print(tulos)\n",
    "    \n",
    "url='https://student.labranet.jamk.fi/~huoptu/datananal_s20/kerta6/harjoitukset/motion.csv'\n",
    "interp_times(url)"
   ]
  },
  {
   "cell_type": "markdown",
   "metadata": {},
   "source": [
    "## 5. Aikasarjojen yhdistäminen\n",
    "\n",
    "Tässä tehtävässä yhdistetään kaksi eri aikasarjadatasettiä niiden aikaleimojen perusteella. \n",
    "* [Datasetissä](https://student.labranet.jamk.fi/~huoptu/datananal_s20/kerta6/harjoitukset/saatiedot_kumpula_1d.csv) nro 1. aikainformaatio on sisällytetty ensimmäiseen ensimmäiseen nimeämättömään sarakkeeseen muodossa 'vuosi-kuukausi-päivä tunnit:minuutit:sekunnit'. Datasetissä nro 1. tarvitaan jatkolaskuja varten sarakkeen 'Air temperature, degC' lämpötilainformaatio.\n",
    "* [Datasetissä](https://student.labranet.jamk.fi/~huoptu/datananal_s20/kerta6/harjoitukset/indoormeas.csv) nro 2. aikainformaatio on sisällytetty ensimmäiseen sarakkeeseen 'time, s' sekunteina. Datasetissä nro 2. tarvitaan jatkolaskuja varten sarakkeen 'Temp, C-deg' lämpötilainformaatio.\n",
    "\n",
    "Tee funktio tempdiff(url1, url2), joka tekee seuraavaa:\n",
    "* lataa aikasarjadatan nro 1. DataFrameen [url:sta](https://student.labranet.jamk.fi/~huoptu/datananal_s20/kerta6/harjoitukset/saatiedot_kumpula_1d.csv) ja aikasarjadatan nro 2. toiseen DataFrameen [url:sta](https://student.labranet.jamk.fi/~huoptu/datananal_s20/kerta6/harjoitukset/indoormeas.csv),\n",
    "* muodostaa datan nro 2. DataFrameen aikaleiman indeksiksi muodossa 'vuosi-kuukausi-päivä tunnit:minuutit:sekunnit', kun mittaukset ovat alkaneet '2020-11-05 08:40:00' ja sarake 'time, s' kertoo ajan mittausten alusta sekunteina,\n",
    "* yhdistää aikasarjadatojen nro 1. ja nro 2. kaikki lämpötilat 'Air temperature, degC' ja 'Temp, C-deg' yhteen DataFrameen aikaleimojen perusteella kasvavaan aikajärjestykseen siten, että yhdistetyssä DataFramessa indeksi kertoo mittaustapahtumien ajanhetken,\n",
    "* puuttuvien lämpötilojen arvot täytetään DataFrameen em. aikajärjestyksessä edellisillä lämpötilan arvoilla,\n",
    "* laskee uuteen DataFrameen sarakkeeseen 'Temp_diff, C-deg' kuinka paljon lämpötila 'Temp, C-deg' on suurempi kuin lämpötila 'Air temperature, degC',\n",
    "* laskee DataFrameen lämpötilojen erotuksen 'Temp_diff, C-deg' liukuvan keskiarvon kolmen tunnin aikaikkunalla sarakkeeseen 'Temp_roll, C-deg',\n",
    "* pyöristää ja esittää DataFramen lukuarvot kolmen desimaalin tarkkuudella,\n",
    "* tulostaa lopputulokseen viisi ensimmäistä riviä sarakkeista 'Temp_diff, C-deg' ja 'Temp_roll, C-deg' ajanhetkestä '2020-11-05 12:59:00' eteenpäin.\n",
    "\n",
    "**Esimerkiksi tempdiff(url1, url2) tulostaa:**\n",
    "<img src=\"https://student.labranet.jamk.fi/~huoptu/datananal_s20/kerta6/harjoitukset/h6t4.png\" width=\"350\"/>"
   ]
  },
  {
   "cell_type": "code",
   "execution_count": 188,
   "metadata": {},
   "outputs": [
    {
     "name": "stdout",
     "output_type": "stream",
     "text": [
      "                    Temp_diff, C-deg Temp_roll, C-deg\n",
      "2020-11-05 13:00:00           12.590           12.623\n",
      "2020-11-05 13:01:00           12.590           12.620\n",
      "2020-11-05 13:02:00           12.590           12.617\n",
      "2020-11-05 13:03:00           12.590           12.614\n",
      "2020-11-05 13:03:59           12.590           12.611\n"
     ]
    }
   ],
   "source": [
    "def tempdiff(url1, url2):\n",
    "    # Kirjoita vastauksesi tähän alle:\n",
    "    import pandas as pd\n",
    "    from datetime import datetime\n",
    "    from datetime import timedelta\n",
    "        \n",
    "    df1 = pd.read_csv(url1, sep=',', usecols=[0,1], index_col=\"Unnamed: 0\")\n",
    "    df2 = pd.read_csv(url2, sep='\\t', usecols=[0,1])\n",
    "    \n",
    "    alkuaika = datetime.strptime('2020-11-05 08:40:00', '%Y-%m-%d %H:%M:%S')               \n",
    "    df2.index = alkuaika + pd.to_timedelta(df2['time, s'], 's')    \n",
    "    df2 = df2[['Temp, C-deg']]\n",
    "    \n",
    "    df = df1.join(df2, how='outer')\n",
    "    df = df.ffill()\n",
    "    df['Temp_diff, C-deg'] = df['Temp, C-deg'] - df['Air temperature, degC']\n",
    "    df['Temp_roll, C-deg'] = df['Temp_diff, C-deg'].rolling('3H').mean()\n",
    "    df = df[['Temp_diff, C-deg', 'Temp_roll, C-deg']]\n",
    "    df = df.applymap('{:.3f}'.format)\n",
    "    tulos = df[df.index > '2020-11-05 12:59:00'].head(5)\n",
    "    \n",
    "    # Älä kirjoita tähän muita print komentoja ennen viimeistä print(tulos) komentoa, koska tällöin vastauksesi saatetaan tulkita väärin.\n",
    "    \n",
    "    # Lopuksi vastauksesi tulostetaan tulos muuttujassa\n",
    "    print(tulos)\n",
    "\n",
    "# Voit kokeillä funktiosi toimivuutta:\n",
    "url1 = 'https://student.labranet.jamk.fi/~huoptu/datananal_s20/kerta6/harjoitukset/saatiedot_kumpula_1d.csv'    \n",
    "url2 = 'https://student.labranet.jamk.fi/~huoptu/datananal_s20/kerta6/harjoitukset/indoormeas.csv'\n",
    "tempdiff(url1, url2)"
   ]
  },
  {
   "cell_type": "code",
   "execution_count": null,
   "metadata": {},
   "outputs": [],
   "source": []
  }
 ],
 "metadata": {
  "kernelspec": {
   "display_name": "Python 3",
   "language": "python",
   "name": "python3"
  },
  "language_info": {
   "codemirror_mode": {
    "name": "ipython",
    "version": 3
   },
   "file_extension": ".py",
   "mimetype": "text/x-python",
   "name": "python",
   "nbconvert_exporter": "python",
   "pygments_lexer": "ipython3",
   "version": "3.8.5"
  }
 },
 "nbformat": 4,
 "nbformat_minor": 4
}
